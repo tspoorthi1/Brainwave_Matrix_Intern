{
 "cells": [
  {
   "cell_type": "code",
   "execution_count": 32,
   "id": "a7d7977e-ed47-47ab-84d5-4bf17dbc2e08",
   "metadata": {
    "tags": []
   },
   "outputs": [],
   "source": [
    "import tweepy\n",
    "import re\n",
    "import nltk\n",
    "from textblob import TextBlob\n",
    "import matplotlib.pyplot as plt\n",
    "import time\n",
    "from tweepy import TooManyRequests"
   ]
  },
  {
   "cell_type": "code",
   "execution_count": 34,
   "id": "167a0cd7-5a42-40ee-8250-930d937fe9de",
   "metadata": {
    "tags": []
   },
   "outputs": [],
   "source": [
    "# Replace these with your own Twitter API keys\n",
    "api_key = 'DIVtBqINU3qtx8xfs7bsRA53m'\n",
    "api_secret_key = 'oJUH7oq7wEX2b7BTOtCzcWKnNF60dha9cizbqSdEUO3yUajFW4'\n",
    "access_token = '1847944458232578048-eacQdWJQcWpNWOAtMGcJoes9y08oIr'\n",
    "access_token_secret = 'luAHv59KaBdl2dS2DT8DDrLS2QAIUNl0nXRO1T619lAsd'"
   ]
  },
  {
   "cell_type": "code",
   "execution_count": 36,
   "id": "ff6f2059-3a56-4832-addd-f348e8b5fd0a",
   "metadata": {
    "tags": []
   },
   "outputs": [],
   "source": [
    "# Authenticate to Twitter\n",
    "auth = tweepy.OAuth1UserHandler(api_key, api_secret_key, access_token, access_token_secret)\n",
    "api = tweepy.Client(auth)"
   ]
  },
  {
   "cell_type": "code",
   "execution_count": 38,
   "id": "c750dbf2-2286-4d3f-baa5-2538f27fd91b",
   "metadata": {
    "tags": []
   },
   "outputs": [],
   "source": [
    "bearer_token = \"AAAAAAAAAAAAAAAAAAAAAMDyxAEAAAAAjTnRvxlV7SyRPH6cNbFilVUXWlI%3DHUcXmodPTRA7BoIqyUUh8shKIqjiThYIF7USpb68cIZUN0ovaN\"\n",
    "client = tweepy.Client(bearer_token=bearer_token)"
   ]
  },
  {
   "cell_type": "code",
   "execution_count": 40,
   "id": "ef5cb52b-8498-4d94-bc8c-6e3a2fae0109",
   "metadata": {
    "tags": []
   },
   "outputs": [],
   "source": [
    "# Fetch tweets containing a specific keyword\n",
    "query = \"Python programming\"\n",
    "tweets = client.search_recent_tweets(query, max_results=100, tweet_fields=['lang', 'text'])"
   ]
  },
  {
   "cell_type": "code",
   "execution_count": 42,
   "id": "ba77c32a-1b2f-4414-8057-18b76f7e2c9f",
   "metadata": {},
   "outputs": [
    {
     "name": "stderr",
     "output_type": "stream",
     "text": [
      "[nltk_data] Downloading package stopwords to\n",
      "[nltk_data]     C:\\Users\\91901\\AppData\\Roaming\\nltk_data...\n",
      "[nltk_data]   Package stopwords is already up-to-date!\n"
     ]
    }
   ],
   "source": [
    "# Preprocess tweets\n",
    "nltk.download('stopwords')\n",
    "stop_words = set(nltk.corpus.stopwords.words('english'))"
   ]
  },
  {
   "cell_type": "code",
   "execution_count": 44,
   "id": "f160f7d4-75cf-4cba-80a3-f4aa0049dfb8",
   "metadata": {
    "tags": []
   },
   "outputs": [],
   "source": [
    "def preprocess_tweet(tweet):\n",
    "    tweet = re.sub(r'http\\S+|www\\S+|https\\S+', '', tweet, flags=re.MULTILINE)\n",
    "    tweet = re.sub(r'\\@\\w+|\\#', '', tweet)\n",
    "    tweet = tweet.lower()\n",
    "    tweet = re.sub(r'[^a-zA-Z\\s]', '', tweet)\n",
    "    tweet_tokens = tweet.split()\n",
    "    filtered_words = [word for word in tweet_tokens if word not in stop_words]\n",
    "    return \" \".join(filtered_words)\n",
    "\n",
    "# Preprocess tweets\n",
    "preprocessed_tweets = [preprocess_tweet(tweet.text) for tweet in tweets.data if tweet.text]"
   ]
  },
  {
   "cell_type": "code",
   "execution_count": 46,
   "id": "2c6c0734-79ca-432d-8827-af562329e65b",
   "metadata": {
    "tags": []
   },
   "outputs": [],
   "source": [
    "# Perform sentiment analysis\n",
    "def get_sentiment(tweet):\n",
    "    analysis = TextBlob(tweet)\n",
    "    if analysis.sentiment.polarity > 0:\n",
    "        return \"positive\"\n",
    "    elif analysis.sentiment.polarity == 0:\n",
    "        return \"neutral\"\n",
    "    else:\n",
    "        return \"negative\"\n",
    "\n",
    "sentiments = [get_sentiment(tweet) for tweet in preprocessed_tweets]\n"
   ]
  },
  {
   "cell_type": "code",
   "execution_count": 48,
   "id": "0b1d1af5-d2bc-4fa9-b50c-bf715f9bb791",
   "metadata": {
    "tags": []
   },
   "outputs": [
    {
     "data": {
      "image/png": "[encoded data removed]",
      "text/plain": [
       "<Figure size 640x480 with 1 Axes>"
      ]
     },
     "metadata": {},
     "output_type": "display_data"
    }
   ],
   "source": [
    "# Visualize sentiment distribution\n",
    "sentiment_counts = {\n",
    "    \"positive\": sentiments.count(\"positive\"),\n",
    "    \"neutral\": sentiments.count(\"neutral\"),\n",
    "    \"negative\": sentiments.count(\"negative\")\n",
    "}\n",
    "\n",
    "labels = sentiment_counts.keys()\n",
    "sizes = sentiment_counts.values()\n",
    "colors = ['green', 'blue', 'red']\n",
    "\n",
    "plt.pie(sizes, labels=labels, colors=colors, autopct='%1.1f%%', startangle=140)\n",
    "plt.axis('equal')\n",
    "plt.title(\"Sentiment Distribution of Tweets\")\n",
    "plt.show()"
   ]
  },
  {
   "cell_type": "code",
   "execution_count": null,
   "id": "a942c31e-bf08-4b94-85cb-a5fdbbce1371",
   "metadata": {},
   "outputs": [],
   "source": []
  }
 ],
 "metadata": {
  "kernelspec": {
   "display_name": "Python 3 (ipykernel)",
   "language": "python",
   "name": "python3"
  },
  "language_info": {
   "codemirror_mode": {
    "name": "ipython",
    "version": 3
   },
   "file_extension": ".py",
   "mimetype": "text/x-python",
   "name": "python",
   "nbconvert_exporter": "python",
   "pygments_lexer": "ipython3",
   "version": "3.11.7"
  }
 },
 "nbformat": 4,
 "nbformat_minor": 5
}
